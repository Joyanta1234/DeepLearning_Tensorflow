{
  "nbformat": 4,
  "nbformat_minor": 0,
  "metadata": {
    "colab": {
      "provenance": [],
      "gpuType": "V28"
    },
    "kernelspec": {
      "name": "python3",
      "display_name": "Python 3"
    },
    "language_info": {
      "name": "python"
    },
    "accelerator": "TPU"
  },
  "cells": [
    {
      "cell_type": "markdown",
      "source": [
        "#Basic of Tensor"
      ],
      "metadata": {
        "id": "cinqK70bl50T"
      }
    },
    {
      "cell_type": "code",
      "execution_count": 2,
      "metadata": {
        "id": "WlV1nClE9Snx"
      },
      "outputs": [],
      "source": [
        "import tensorflow as tf"
      ]
    },
    {
      "cell_type": "code",
      "source": [
        "tensor_zero_d=tf.constant(4)\n",
        "print(tensor_zero_d)"
      ],
      "metadata": {
        "colab": {
          "base_uri": "https://localhost:8080/"
        },
        "id": "OEiadYdKAa8B",
        "outputId": "c247d6d9-cf94-481a-edee-cc933f11ec8f"
      },
      "execution_count": 3,
      "outputs": [
        {
          "output_type": "stream",
          "name": "stdout",
          "text": [
            "tf.Tensor(4, shape=(), dtype=int32)\n"
          ]
        }
      ]
    },
    {
      "cell_type": "code",
      "source": [
        "tensor_one_d=tf.constant([2,0,-3])\n",
        "print(tensor_one_d)"
      ],
      "metadata": {
        "colab": {
          "base_uri": "https://localhost:8080/"
        },
        "id": "NROWXr46A7SP",
        "outputId": "19ebdb2b-5f37-488b-a0e7-b266a9bcc8cd"
      },
      "execution_count": 4,
      "outputs": [
        {
          "output_type": "stream",
          "name": "stdout",
          "text": [
            "tf.Tensor([ 2  0 -3], shape=(3,), dtype=int32)\n"
          ]
        }
      ]
    },
    {
      "cell_type": "code",
      "source": [
        "tensor_two_d=tf.constant([\n",
        "\n",
        "                         [1,2,0],\n",
        "                         [3,5,-1],\n",
        "                         [1,5,6],\n",
        "                         [2,3,8]\n",
        "\n",
        "])\n",
        "\n",
        "print(tensor_two_d)"
      ],
      "metadata": {
        "colab": {
          "base_uri": "https://localhost:8080/"
        },
        "id": "S_7RjB6NBTb0",
        "outputId": "15f86ffb-8177-4c44-e4f5-8a28ee29d506"
      },
      "execution_count": 5,
      "outputs": [
        {
          "output_type": "stream",
          "name": "stdout",
          "text": [
            "tf.Tensor(\n",
            "[[ 1  2  0]\n",
            " [ 3  5 -1]\n",
            " [ 1  5  6]\n",
            " [ 2  3  8]], shape=(4, 3), dtype=int32)\n"
          ]
        }
      ]
    },
    {
      "cell_type": "code",
      "source": [
        "tensor_three_d=tf.constant([\n",
        "\n",
        "                            [[1,2,3],\n",
        "                             [2,3,4]],\n",
        "\n",
        "                            [[5,4,6],\n",
        "                             [5,6,3]],\n",
        "\n",
        "                            [[4,6,2],\n",
        "                             [4,3,5]],\n",
        "\n",
        "                            [[6,4,5],\n",
        "                             [3,5,6]]\n",
        "])\n",
        "\n",
        "print(tensor_three_d)"
      ],
      "metadata": {
        "colab": {
          "base_uri": "https://localhost:8080/"
        },
        "id": "N_pJzmRVDvZq",
        "outputId": "d7c37ad8-5d1e-4cd4-a806-147e9f67f2cb"
      },
      "execution_count": 6,
      "outputs": [
        {
          "output_type": "stream",
          "name": "stdout",
          "text": [
            "tf.Tensor(\n",
            "[[[1 2 3]\n",
            "  [2 3 4]]\n",
            "\n",
            " [[5 4 6]\n",
            "  [5 6 3]]\n",
            "\n",
            " [[4 6 2]\n",
            "  [4 3 5]]\n",
            "\n",
            " [[6 4 5]\n",
            "  [3 5 6]]], shape=(4, 2, 3), dtype=int32)\n"
          ]
        }
      ]
    },
    {
      "cell_type": "code",
      "source": [
        "print(tensor_two_d.shape)"
      ],
      "metadata": {
        "colab": {
          "base_uri": "https://localhost:8080/"
        },
        "id": "FTanpkpuGP1K",
        "outputId": "5933cc43-05f2-4964-bd4f-b2e304b8014e"
      },
      "execution_count": 7,
      "outputs": [
        {
          "output_type": "stream",
          "name": "stdout",
          "text": [
            "(4, 3)\n"
          ]
        }
      ]
    },
    {
      "cell_type": "code",
      "source": [
        "print(tensor_zero_d.dtype)"
      ],
      "metadata": {
        "colab": {
          "base_uri": "https://localhost:8080/"
        },
        "id": "8QybYH-YGjXg",
        "outputId": "20298f19-6807-4c6d-de12-9957518e2421"
      },
      "execution_count": 8,
      "outputs": [
        {
          "output_type": "stream",
          "name": "stdout",
          "text": [
            "<dtype: 'int32'>\n"
          ]
        }
      ]
    },
    {
      "cell_type": "code",
      "source": [
        "print(tensor_zero_d.ndim)\n",
        "\n",
        "print(tensor_one_d.ndim)\n",
        "\n",
        "print(tensor_two_d.ndim)\n",
        "\n",
        "print(tensor_three_d.ndim)\n",
        "\n",
        "print(tensor_zero_d.ndim,tensor_one_d.ndim,tensor_two_d.ndim,tensor_three_d.ndim)\n"
      ],
      "metadata": {
        "colab": {
          "base_uri": "https://localhost:8080/"
        },
        "id": "Nj4RkliSGu8w",
        "outputId": "05089994-614c-4631-890f-edd0cf5d6279"
      },
      "execution_count": 9,
      "outputs": [
        {
          "output_type": "stream",
          "name": "stdout",
          "text": [
            "0\n",
            "1\n",
            "2\n",
            "3\n",
            "0 1 2 3\n"
          ]
        }
      ]
    },
    {
      "cell_type": "code",
      "source": [
        "tensor_four_d=tf.constant([\n",
        "\n",
        "                            [[[1,2,3],\n",
        "                             [2,3,4]],\n",
        "\n",
        "                            [[5,4,6],\n",
        "                             [5,6,3]],\n",
        "\n",
        "                            [[4,6,2],\n",
        "                             [4,3,5]],\n",
        "\n",
        "                            [[6,4,5],\n",
        "                             [3,5,6]]],\n",
        "\n",
        "                            [[[1,2,3],\n",
        "                             [2,3,4]],\n",
        "\n",
        "                            [[5,4,6],\n",
        "                             [5,6,3]],\n",
        "\n",
        "                            [[4,6,2],\n",
        "                             [4,3,5]],\n",
        "\n",
        "                            [[6,4,5],\n",
        "                             [3,5,6]]],\n",
        "\n",
        "                            [[[1,2,3],\n",
        "                             [2,3,4]],\n",
        "\n",
        "                            [[5,4,6],\n",
        "                             [5,6,3]],\n",
        "\n",
        "                            [[4,6,2],\n",
        "                             [4,3,5]],\n",
        "\n",
        "                            [[6,4,5],\n",
        "                             [3,5,6]]]\n",
        "\n",
        "])\n",
        "\n",
        "print(tensor_four_d)\n"
      ],
      "metadata": {
        "colab": {
          "base_uri": "https://localhost:8080/"
        },
        "id": "2dij7dAjIz5D",
        "outputId": "6527c20b-a295-4d07-a708-e7346746a062"
      },
      "execution_count": 10,
      "outputs": [
        {
          "output_type": "stream",
          "name": "stdout",
          "text": [
            "tf.Tensor(\n",
            "[[[[1 2 3]\n",
            "   [2 3 4]]\n",
            "\n",
            "  [[5 4 6]\n",
            "   [5 6 3]]\n",
            "\n",
            "  [[4 6 2]\n",
            "   [4 3 5]]\n",
            "\n",
            "  [[6 4 5]\n",
            "   [3 5 6]]]\n",
            "\n",
            "\n",
            " [[[1 2 3]\n",
            "   [2 3 4]]\n",
            "\n",
            "  [[5 4 6]\n",
            "   [5 6 3]]\n",
            "\n",
            "  [[4 6 2]\n",
            "   [4 3 5]]\n",
            "\n",
            "  [[6 4 5]\n",
            "   [3 5 6]]]\n",
            "\n",
            "\n",
            " [[[1 2 3]\n",
            "   [2 3 4]]\n",
            "\n",
            "  [[5 4 6]\n",
            "   [5 6 3]]\n",
            "\n",
            "  [[4 6 2]\n",
            "   [4 3 5]]\n",
            "\n",
            "  [[6 4 5]\n",
            "   [3 5 6]]]], shape=(3, 4, 2, 3), dtype=int32)\n"
          ]
        }
      ]
    },
    {
      "cell_type": "code",
      "source": [
        "print(tensor_four_d.ndim)"
      ],
      "metadata": {
        "colab": {
          "base_uri": "https://localhost:8080/"
        },
        "id": "gHCtF_SqKFsM",
        "outputId": "458b499c-28be-40cc-da1e-15db6240da5d"
      },
      "execution_count": 11,
      "outputs": [
        {
          "output_type": "stream",
          "name": "stdout",
          "text": [
            "4\n"
          ]
        }
      ]
    },
    {
      "cell_type": "code",
      "source": [
        "tensor_one_1_d=tf.constant([1,2,3],dtype=tf.float32)\n",
        "print(tensor_one_1_d)"
      ],
      "metadata": {
        "colab": {
          "base_uri": "https://localhost:8080/"
        },
        "id": "JgvFQyXwTGvq",
        "outputId": "2aa7d3a5-56c2-4e3b-d5b4-fb0a51819fca"
      },
      "execution_count": 12,
      "outputs": [
        {
          "output_type": "stream",
          "name": "stdout",
          "text": [
            "tf.Tensor([1. 2. 3.], shape=(3,), dtype=float32)\n"
          ]
        }
      ]
    },
    {
      "cell_type": "markdown",
      "source": [
        "#Casting"
      ],
      "metadata": {
        "id": "YQyBqkMLjT0b"
      }
    },
    {
      "cell_type": "code",
      "source": [
        "tensor_one_d_float=tf.constant([1,0.,-1,4],dtype=tf.float32)\n",
        "caster_tensor=tf.cast(tensor_one_d_float,dtype=tf.int32)\n",
        "print(tensor_one_d_float)\n",
        "print(caster_tensor)"
      ],
      "metadata": {
        "colab": {
          "base_uri": "https://localhost:8080/"
        },
        "id": "QOUDPO-QjfiG",
        "outputId": "6c819f43-5c7a-4303-9883-720af25a360d"
      },
      "execution_count": 27,
      "outputs": [
        {
          "output_type": "stream",
          "name": "stdout",
          "text": [
            "tf.Tensor([ 1.  0. -1.  4.], shape=(4,), dtype=float32)\n",
            "tf.Tensor([ 1  0 -1  4], shape=(4,), dtype=int32)\n"
          ]
        }
      ]
    },
    {
      "cell_type": "code",
      "source": [
        "caster_tensor_bool=tf.cast(tensor_one_d_float,dtype=tf.bool)\n",
        "print(caster_tensor_bool)"
      ],
      "metadata": {
        "colab": {
          "base_uri": "https://localhost:8080/"
        },
        "id": "7-GO2zwbmaoI",
        "outputId": "d9d4e3f6-6b9d-4d59-a99c-311f344cf0cf"
      },
      "execution_count": 28,
      "outputs": [
        {
          "output_type": "stream",
          "name": "stdout",
          "text": [
            "tf.Tensor([ True False  True  True], shape=(4,), dtype=bool)\n"
          ]
        }
      ]
    },
    {
      "cell_type": "code",
      "source": [
        "tensor_bool=tf.constant([True, True, False])\n",
        "print(tensor_bool)"
      ],
      "metadata": {
        "colab": {
          "base_uri": "https://localhost:8080/"
        },
        "id": "gtdufkaOnIhF",
        "outputId": "e4897faf-b54d-44d5-8484-c12e494168ea"
      },
      "execution_count": 30,
      "outputs": [
        {
          "output_type": "stream",
          "name": "stdout",
          "text": [
            "tf.Tensor([ True  True False], shape=(3,), dtype=bool)\n"
          ]
        }
      ]
    },
    {
      "cell_type": "code",
      "source": [
        "tensor_string=tf.constant(\"Hello World\")\n",
        "print(tensor_string)"
      ],
      "metadata": {
        "colab": {
          "base_uri": "https://localhost:8080/"
        },
        "id": "WxqycVW2naX9",
        "outputId": "f619d321-ef97-4b53-9d88-655104d6ae13"
      },
      "execution_count": 33,
      "outputs": [
        {
          "output_type": "stream",
          "name": "stdout",
          "text": [
            "tf.Tensor(b'Hello World', shape=(), dtype=string)\n"
          ]
        }
      ]
    },
    {
      "cell_type": "markdown",
      "source": [
        "#numpy to tensorflow"
      ],
      "metadata": {
        "id": "gd5RPSG8luME"
      }
    },
    {
      "cell_type": "code",
      "source": [
        "import numpy as np"
      ],
      "metadata": {
        "id": "jrOeDB7_l2ob"
      },
      "execution_count": 22,
      "outputs": []
    },
    {
      "cell_type": "code",
      "source": [
        "numpy_array=np.array([1,3,-3])\n",
        "print(numpy_array)"
      ],
      "metadata": {
        "colab": {
          "base_uri": "https://localhost:8080/"
        },
        "id": "cQ8uqrrTmR92",
        "outputId": "58a92f50-c72e-4f47-b4cc-7780c043a05f"
      },
      "execution_count": 34,
      "outputs": [
        {
          "output_type": "stream",
          "name": "stdout",
          "text": [
            "[ 1  3 -3]\n"
          ]
        }
      ]
    },
    {
      "cell_type": "code",
      "source": [
        "converted_tensor=tf.convert_to_tensor(numpy_array)\n",
        "print(converted_tensor)"
      ],
      "metadata": {
        "colab": {
          "base_uri": "https://localhost:8080/"
        },
        "id": "PspFikCeof7b",
        "outputId": "6346efb7-23c5-4d4b-8b19-b5d456acbde7"
      },
      "execution_count": 35,
      "outputs": [
        {
          "output_type": "stream",
          "name": "stdout",
          "text": [
            "tf.Tensor([ 1  3 -3], shape=(3,), dtype=int64)\n"
          ]
        }
      ]
    },
    {
      "cell_type": "markdown",
      "source": [
        "#Different Types of Methods"
      ],
      "metadata": {
        "id": "26FryC5Brwrj"
      }
    },
    {
      "cell_type": "markdown",
      "source": [
        "#Identy metrix\n"
      ],
      "metadata": {
        "id": "05Tfizkiuucz"
      }
    },
    {
      "cell_type": "code",
      "source": [
        "eye_tensor=tf.eye(\n",
        "    num_rows=4,\n",
        "    num_columns=None,\n",
        "    batch_shape=None,\n",
        "    dtype=tf.dtypes.float32,\n",
        "    name=None\n",
        ")\n",
        "\n",
        "print(eye_tensor)"
      ],
      "metadata": {
        "colab": {
          "base_uri": "https://localhost:8080/"
        },
        "id": "3Z5e5ccKr0rb",
        "outputId": "537a0b24-94d3-42e7-af40-c713b41b9c68"
      },
      "execution_count": 56,
      "outputs": [
        {
          "output_type": "stream",
          "name": "stdout",
          "text": [
            "tf.Tensor(\n",
            "[[1. 0. 0. 0.]\n",
            " [0. 1. 0. 0.]\n",
            " [0. 0. 1. 0.]\n",
            " [0. 0. 0. 1.]], shape=(4, 4), dtype=float32)\n"
          ]
        }
      ]
    },
    {
      "cell_type": "code",
      "source": [
        "print(3*eye_tensor)"
      ],
      "metadata": {
        "colab": {
          "base_uri": "https://localhost:8080/"
        },
        "id": "N-85uIkDsRcb",
        "outputId": "57915338-bc9d-4ef1-b28c-5741e4eac766"
      },
      "execution_count": 57,
      "outputs": [
        {
          "output_type": "stream",
          "name": "stdout",
          "text": [
            "tf.Tensor(\n",
            "[[3. 0. 0. 0.]\n",
            " [0. 3. 0. 0.]\n",
            " [0. 0. 3. 0.]\n",
            " [0. 0. 0. 3.]], shape=(4, 4), dtype=float32)\n"
          ]
        }
      ]
    },
    {
      "cell_type": "code",
      "source": [
        "eye_tensor=tf.eye(\n",
        "    num_rows=5,\n",
        "    num_columns=3,\n",
        "    batch_shape=[3,2],\n",
        "    dtype=tf.dtypes.float32,\n",
        "    name=None\n",
        ")\n",
        "\n",
        "print(eye_tensor)"
      ],
      "metadata": {
        "colab": {
          "base_uri": "https://localhost:8080/"
        },
        "outputId": "4b5781e5-d192-4248-d27b-57f3e829a768",
        "id": "Db6UxXa4tTcp"
      },
      "execution_count": 58,
      "outputs": [
        {
          "output_type": "stream",
          "name": "stdout",
          "text": [
            "tf.Tensor(\n",
            "[[[[1. 0. 0.]\n",
            "   [0. 1. 0.]\n",
            "   [0. 0. 1.]\n",
            "   [0. 0. 0.]\n",
            "   [0. 0. 0.]]\n",
            "\n",
            "  [[1. 0. 0.]\n",
            "   [0. 1. 0.]\n",
            "   [0. 0. 1.]\n",
            "   [0. 0. 0.]\n",
            "   [0. 0. 0.]]]\n",
            "\n",
            "\n",
            " [[[1. 0. 0.]\n",
            "   [0. 1. 0.]\n",
            "   [0. 0. 1.]\n",
            "   [0. 0. 0.]\n",
            "   [0. 0. 0.]]\n",
            "\n",
            "  [[1. 0. 0.]\n",
            "   [0. 1. 0.]\n",
            "   [0. 0. 1.]\n",
            "   [0. 0. 0.]\n",
            "   [0. 0. 0.]]]\n",
            "\n",
            "\n",
            " [[[1. 0. 0.]\n",
            "   [0. 1. 0.]\n",
            "   [0. 0. 1.]\n",
            "   [0. 0. 0.]\n",
            "   [0. 0. 0.]]\n",
            "\n",
            "  [[1. 0. 0.]\n",
            "   [0. 1. 0.]\n",
            "   [0. 0. 1.]\n",
            "   [0. 0. 0.]\n",
            "   [0. 0. 0.]]]], shape=(3, 2, 5, 3), dtype=float32)\n"
          ]
        }
      ]
    },
    {
      "cell_type": "code",
      "source": [
        "eye_tensor=tf.eye(\n",
        "    num_rows=4,\n",
        "    num_columns=None,\n",
        "    batch_shape=None,\n",
        "    dtype=tf.dtypes.bool,\n",
        "    name=None\n",
        ")\n",
        "\n",
        "print(eye_tensor)"
      ],
      "metadata": {
        "colab": {
          "base_uri": "https://localhost:8080/"
        },
        "id": "KdgOWCj5vrNN",
        "outputId": "54c0fad8-e6dd-4fe8-8417-0a76a2ef3f4d"
      },
      "execution_count": 59,
      "outputs": [
        {
          "output_type": "stream",
          "name": "stdout",
          "text": [
            "tf.Tensor(\n",
            "[[ True False False False]\n",
            " [False  True False False]\n",
            " [False False  True False]\n",
            " [False False False  True]], shape=(4, 4), dtype=bool)\n"
          ]
        }
      ]
    },
    {
      "cell_type": "markdown",
      "source": [
        "#Fill method\n"
      ],
      "metadata": {
        "id": "7EaRHqzyvHFG"
      }
    },
    {
      "cell_type": "code",
      "source": [
        "fill_tensor=tf.fill(\n",
        "    [2,4,3], 10, name=None, layout=None\n",
        ")\n",
        "\n",
        "print(fill_tensor)"
      ],
      "metadata": {
        "colab": {
          "base_uri": "https://localhost:8080/"
        },
        "id": "Zxk9WyvXvKll",
        "outputId": "571b296b-d179-4d78-f87c-7a241c3f50c3"
      },
      "execution_count": 60,
      "outputs": [
        {
          "output_type": "stream",
          "name": "stdout",
          "text": [
            "tf.Tensor(\n",
            "[[[10 10 10]\n",
            "  [10 10 10]\n",
            "  [10 10 10]\n",
            "  [10 10 10]]\n",
            "\n",
            " [[10 10 10]\n",
            "  [10 10 10]\n",
            "  [10 10 10]\n",
            "  [10 10 10]]], shape=(2, 4, 3), dtype=int32)\n"
          ]
        }
      ]
    },
    {
      "cell_type": "markdown",
      "source": [
        "#One Method Where the value is 1"
      ],
      "metadata": {
        "id": "3hP0ty8CwhTy"
      }
    },
    {
      "cell_type": "code",
      "source": [
        "ones_tensor=tf.ones(\n",
        "    [2,4,5],\n",
        "    dtype=tf.dtypes.float32,\n",
        "    name=None,\n",
        "    layout=None\n",
        ")\n",
        "\n",
        "print(ones_tensor)"
      ],
      "metadata": {
        "colab": {
          "base_uri": "https://localhost:8080/"
        },
        "id": "hqWe461Ewlfi",
        "outputId": "0dbb8bb2-bcdd-415f-9312-e56244f2fd66"
      },
      "execution_count": 61,
      "outputs": [
        {
          "output_type": "stream",
          "name": "stdout",
          "text": [
            "tf.Tensor(\n",
            "[[[1. 1. 1. 1. 1.]\n",
            "  [1. 1. 1. 1. 1.]\n",
            "  [1. 1. 1. 1. 1.]\n",
            "  [1. 1. 1. 1. 1.]]\n",
            "\n",
            " [[1. 1. 1. 1. 1.]\n",
            "  [1. 1. 1. 1. 1.]\n",
            "  [1. 1. 1. 1. 1.]\n",
            "  [1. 1. 1. 1. 1.]]], shape=(2, 4, 5), dtype=float32)\n"
          ]
        }
      ]
    },
    {
      "cell_type": "markdown",
      "source": [
        "#Ones Like method where the method change all the value to 1\n",
        "\n",
        "\n"
      ],
      "metadata": {
        "id": "3UETHDeExQzT"
      }
    },
    {
      "cell_type": "code",
      "source": [
        "ones_like_tensor=tf.ones_like(fill_tensor)\n",
        "print(ones_like_tensor)"
      ],
      "metadata": {
        "colab": {
          "base_uri": "https://localhost:8080/"
        },
        "id": "yIctcIUBxlBL",
        "outputId": "79b47e80-8399-451a-9b10-948a9c612b62"
      },
      "execution_count": 62,
      "outputs": [
        {
          "output_type": "stream",
          "name": "stdout",
          "text": [
            "tf.Tensor(\n",
            "[[[1 1 1]\n",
            "  [1 1 1]\n",
            "  [1 1 1]\n",
            "  [1 1 1]]\n",
            "\n",
            " [[1 1 1]\n",
            "  [1 1 1]\n",
            "  [1 1 1]\n",
            "  [1 1 1]]], shape=(2, 4, 3), dtype=int32)\n"
          ]
        }
      ]
    },
    {
      "cell_type": "markdown",
      "source": [
        "#Zero and Zeros Like (Same as Ones)"
      ],
      "metadata": {
        "id": "Vtb9FBpYyS4j"
      }
    },
    {
      "cell_type": "code",
      "source": [
        "tensor_example=tf.fill(\n",
        "    [3,4,5], 5, name=None, layout=None\n",
        ")\n",
        "\n",
        "print(tensor_example)"
      ],
      "metadata": {
        "colab": {
          "base_uri": "https://localhost:8080/"
        },
        "id": "fHYddFdByZUM",
        "outputId": "69d56eaa-2ffd-4325-f645-f33f589dff6a"
      },
      "execution_count": 63,
      "outputs": [
        {
          "output_type": "stream",
          "name": "stdout",
          "text": [
            "tf.Tensor(\n",
            "[[[5 5 5 5 5]\n",
            "  [5 5 5 5 5]\n",
            "  [5 5 5 5 5]\n",
            "  [5 5 5 5 5]]\n",
            "\n",
            " [[5 5 5 5 5]\n",
            "  [5 5 5 5 5]\n",
            "  [5 5 5 5 5]\n",
            "  [5 5 5 5 5]]\n",
            "\n",
            " [[5 5 5 5 5]\n",
            "  [5 5 5 5 5]\n",
            "  [5 5 5 5 5]\n",
            "  [5 5 5 5 5]]], shape=(3, 4, 5), dtype=int32)\n"
          ]
        }
      ]
    },
    {
      "cell_type": "code",
      "source": [
        "zeros_tensor=tf.zeros(\n",
        "    [2,4,3],\n",
        "    dtype=tf.dtypes.float32,\n",
        "    name=None,\n",
        "    layout=None\n",
        ")\n",
        "\n",
        "print(zeros_tensor)"
      ],
      "metadata": {
        "colab": {
          "base_uri": "https://localhost:8080/"
        },
        "id": "gyR4vFRgzWXG",
        "outputId": "a07d8a09-909b-41ce-b849-6181283ac61d"
      },
      "execution_count": 65,
      "outputs": [
        {
          "output_type": "stream",
          "name": "stdout",
          "text": [
            "tf.Tensor(\n",
            "[[[0. 0. 0.]\n",
            "  [0. 0. 0.]\n",
            "  [0. 0. 0.]\n",
            "  [0. 0. 0.]]\n",
            "\n",
            " [[0. 0. 0.]\n",
            "  [0. 0. 0.]\n",
            "  [0. 0. 0.]\n",
            "  [0. 0. 0.]]], shape=(2, 4, 3), dtype=float32)\n"
          ]
        }
      ]
    },
    {
      "cell_type": "code",
      "source": [
        "zeros_like_tensor=tf.zeros_like(tensor_example)\n",
        "print(zeros_like_tensor)"
      ],
      "metadata": {
        "colab": {
          "base_uri": "https://localhost:8080/"
        },
        "id": "yMh1d14szrTY",
        "outputId": "6e8aa5a3-55a4-47a3-f5f4-ae0cdd33069c"
      },
      "execution_count": 66,
      "outputs": [
        {
          "output_type": "stream",
          "name": "stdout",
          "text": [
            "tf.Tensor(\n",
            "[[[0 0 0 0 0]\n",
            "  [0 0 0 0 0]\n",
            "  [0 0 0 0 0]\n",
            "  [0 0 0 0 0]]\n",
            "\n",
            " [[0 0 0 0 0]\n",
            "  [0 0 0 0 0]\n",
            "  [0 0 0 0 0]\n",
            "  [0 0 0 0 0]]\n",
            "\n",
            " [[0 0 0 0 0]\n",
            "  [0 0 0 0 0]\n",
            "  [0 0 0 0 0]\n",
            "  [0 0 0 0 0]]], shape=(3, 4, 5), dtype=int32)\n"
          ]
        }
      ]
    },
    {
      "cell_type": "markdown",
      "source": [
        "#Random Normal\n",
        "\n",
        "```\n",
        "tf.random.normal(\n",
        "    shape,\\\\shape means dimentions\n",
        "    mean=0.0,\n",
        "    stddev=1.0,\n",
        "    dtype=tf.dtypes.float32,\n",
        "    seed=None,\n",
        "    name=None\n",
        ")\n",
        "```\n",
        "\n"
      ],
      "metadata": {
        "id": "GGUAcClL12Bl"
      }
    },
    {
      "cell_type": "code",
      "source": [
        "random_tensor=tf.random.normal(\n",
        "    [4,3],\n",
        "    mean=0.0,\n",
        "    stddev=1.0,\n",
        "    dtype=tf.dtypes.float32,\n",
        "    seed=None,\n",
        "    name=None\n",
        ")\n",
        "\n",
        "print(random_tensor)"
      ],
      "metadata": {
        "colab": {
          "base_uri": "https://localhost:8080/"
        },
        "id": "2H2K-UGE2L29",
        "outputId": "99d43cd4-84ee-4ef4-d368-1297cbe01122"
      },
      "execution_count": 71,
      "outputs": [
        {
          "output_type": "stream",
          "name": "stdout",
          "text": [
            "tf.Tensor(\n",
            "[[ 0.30472398  2.5522964   0.65898794]\n",
            " [ 0.7404526   1.9065634   0.68850386]\n",
            " [ 0.6206508  -0.6755241  -1.2356551 ]\n",
            " [-1.0209091   1.0815138   0.29675013]], shape=(4, 3), dtype=float32)\n"
          ]
        }
      ]
    }
  ]
}