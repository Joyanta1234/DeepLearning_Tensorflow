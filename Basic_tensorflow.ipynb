{
  "nbformat": 4,
  "nbformat_minor": 0,
  "metadata": {
    "colab": {
      "provenance": []
    },
    "kernelspec": {
      "name": "python3",
      "display_name": "Python 3"
    },
    "language_info": {
      "name": "python"
    }
  },
  "cells": [
    {
      "cell_type": "markdown",
      "source": [
        "#Basic of Tensor"
      ],
      "metadata": {
        "id": "cinqK70bl50T"
      }
    },
    {
      "cell_type": "code",
      "execution_count": null,
      "metadata": {
        "id": "WlV1nClE9Snx"
      },
      "outputs": [],
      "source": [
        "import tensorflow as tf"
      ]
    },
    {
      "cell_type": "code",
      "source": [
        "tensor_zero_d=tf.constant(4)\n",
        "print(tensor_zero_d)"
      ],
      "metadata": {
        "colab": {
          "base_uri": "https://localhost:8080/"
        },
        "id": "OEiadYdKAa8B",
        "outputId": "0383b09b-9f3f-4789-d90e-b3c07d459349"
      },
      "execution_count": null,
      "outputs": [
        {
          "output_type": "stream",
          "name": "stdout",
          "text": [
            "tf.Tensor(4, shape=(), dtype=int32)\n"
          ]
        }
      ]
    },
    {
      "cell_type": "code",
      "source": [
        "#many 0d tensor combine 1d tensor.\n",
        "tensor_one_d=tf.constant([2,0,-3])\n",
        "print(tensor_one_d)"
      ],
      "metadata": {
        "colab": {
          "base_uri": "https://localhost:8080/"
        },
        "id": "NROWXr46A7SP",
        "outputId": "d9eb075a-07c2-426f-d768-cf8b8f9af303"
      },
      "execution_count": null,
      "outputs": [
        {
          "output_type": "stream",
          "name": "stdout",
          "text": [
            "tf.Tensor([ 2  0 -3], shape=(3,), dtype=int32)\n"
          ]
        }
      ]
    },
    {
      "cell_type": "code",
      "source": [
        "#many 1d tensor combine 2d tensor\n",
        "tensor_two_d=tf.constant([\n",
        "\n",
        "                         [1,2,0],\n",
        "                         [3,5,-1],\n",
        "                         [1,5,6],\n",
        "                         [2,3,8]\n",
        "\n",
        "])\n",
        "\n",
        "print(tensor_two_d)"
      ],
      "metadata": {
        "colab": {
          "base_uri": "https://localhost:8080/"
        },
        "id": "S_7RjB6NBTb0",
        "outputId": "d5847429-de5e-4474-c1a2-36f2c97b595d"
      },
      "execution_count": null,
      "outputs": [
        {
          "output_type": "stream",
          "name": "stdout",
          "text": [
            "tf.Tensor(\n",
            "[[ 1  2  0]\n",
            " [ 3  5 -1]\n",
            " [ 1  5  6]\n",
            " [ 2  3  8]], shape=(4, 3), dtype=int32)\n"
          ]
        }
      ]
    },
    {
      "cell_type": "code",
      "source": [
        "# many 2d combines a 3d tensor\n",
        "tensor_three_d=tf.constant([\n",
        "\n",
        "                            [[1,2,3],\n",
        "                             [2,3,4]],\n",
        "\n",
        "                            [[5,4,6],\n",
        "                             [5,6,3]],\n",
        "\n",
        "                            [[4,6,2],\n",
        "                             [4,3,5]],\n",
        "\n",
        "                            [[6,4,5],\n",
        "                             [3,5,6]]\n",
        "])\n",
        "\n",
        "print(tensor_three_d)"
      ],
      "metadata": {
        "colab": {
          "base_uri": "https://localhost:8080/"
        },
        "id": "N_pJzmRVDvZq",
        "outputId": "7ac31054-f724-478f-c97e-c28a2a972db3"
      },
      "execution_count": null,
      "outputs": [
        {
          "output_type": "stream",
          "name": "stdout",
          "text": [
            "tf.Tensor(\n",
            "[[[1 2 3]\n",
            "  [2 3 4]]\n",
            "\n",
            " [[5 4 6]\n",
            "  [5 6 3]]\n",
            "\n",
            " [[4 6 2]\n",
            "  [4 3 5]]\n",
            "\n",
            " [[6 4 5]\n",
            "  [3 5 6]]], shape=(4, 2, 3), dtype=int32)\n"
          ]
        }
      ]
    },
    {
      "cell_type": "code",
      "source": [
        "print(tensor_two_d.shape) #to check the shape of the tensor we use shape"
      ],
      "metadata": {
        "colab": {
          "base_uri": "https://localhost:8080/"
        },
        "id": "FTanpkpuGP1K",
        "outputId": "d426074e-f0e2-4d06-a5d1-d460986ac067"
      },
      "execution_count": null,
      "outputs": [
        {
          "output_type": "stream",
          "name": "stdout",
          "text": [
            "(4, 3)\n"
          ]
        }
      ]
    },
    {
      "cell_type": "code",
      "source": [
        "print(tensor_zero_d.dtype) #to check the data type of the tensor we use dtype"
      ],
      "metadata": {
        "colab": {
          "base_uri": "https://localhost:8080/"
        },
        "id": "8QybYH-YGjXg",
        "outputId": "82703ba3-1021-4786-c692-ef53a84ddc44"
      },
      "execution_count": null,
      "outputs": [
        {
          "output_type": "stream",
          "name": "stdout",
          "text": [
            "<dtype: 'int32'>\n"
          ]
        }
      ]
    },
    {
      "cell_type": "code",
      "source": [
        "print(tensor_zero_d.ndim) #to check the dimention of the tensor we use ndim\n",
        "\n",
        "print(tensor_one_d.ndim)\n",
        "\n",
        "print(tensor_two_d.ndim)\n",
        "\n",
        "print(tensor_three_d.ndim)\n",
        "\n",
        "print(tensor_zero_d.ndim,tensor_one_d.ndim,tensor_two_d.ndim,tensor_three_d.ndim)\n"
      ],
      "metadata": {
        "colab": {
          "base_uri": "https://localhost:8080/"
        },
        "id": "Nj4RkliSGu8w",
        "outputId": "17339efa-b489-46b9-9da7-e877f27d252b"
      },
      "execution_count": null,
      "outputs": [
        {
          "output_type": "stream",
          "name": "stdout",
          "text": [
            "0\n",
            "1\n",
            "2\n",
            "3\n",
            "0 1 2 3\n"
          ]
        }
      ]
    },
    {
      "cell_type": "code",
      "source": [
        "# many 3d combine 4d tensor\n",
        "tensor_four_d=tf.constant([\n",
        "\n",
        "                            [[[1,2,3],\n",
        "                             [2,3,4]],\n",
        "\n",
        "                            [[5,4,6],\n",
        "                             [5,6,3]],\n",
        "\n",
        "                            [[4,6,2],\n",
        "                             [4,3,5]],\n",
        "\n",
        "                            [[6,4,5],\n",
        "                             [3,5,6]]],\n",
        "\n",
        "                            [[[1,2,3],\n",
        "                             [2,3,4]],\n",
        "\n",
        "                            [[5,4,6],\n",
        "                             [5,6,3]],\n",
        "\n",
        "                            [[4,6,2],\n",
        "                             [4,3,5]],\n",
        "\n",
        "                            [[6,4,5],\n",
        "                             [3,5,6]]],\n",
        "\n",
        "                            [[[1,2,3],\n",
        "                             [2,3,4]],\n",
        "\n",
        "                            [[5,4,6],\n",
        "                             [5,6,3]],\n",
        "\n",
        "                            [[4,6,2],\n",
        "                             [4,3,5]],\n",
        "\n",
        "                            [[6,4,5],\n",
        "                             [3,5,6]]]\n",
        "\n",
        "])\n",
        "\n",
        "print(tensor_four_d)\n"
      ],
      "metadata": {
        "colab": {
          "base_uri": "https://localhost:8080/"
        },
        "id": "2dij7dAjIz5D",
        "outputId": "d469ba33-a442-4ee9-dbf2-22be8f664c78"
      },
      "execution_count": null,
      "outputs": [
        {
          "output_type": "stream",
          "name": "stdout",
          "text": [
            "tf.Tensor(\n",
            "[[[[1 2 3]\n",
            "   [2 3 4]]\n",
            "\n",
            "  [[5 4 6]\n",
            "   [5 6 3]]\n",
            "\n",
            "  [[4 6 2]\n",
            "   [4 3 5]]\n",
            "\n",
            "  [[6 4 5]\n",
            "   [3 5 6]]]\n",
            "\n",
            "\n",
            " [[[1 2 3]\n",
            "   [2 3 4]]\n",
            "\n",
            "  [[5 4 6]\n",
            "   [5 6 3]]\n",
            "\n",
            "  [[4 6 2]\n",
            "   [4 3 5]]\n",
            "\n",
            "  [[6 4 5]\n",
            "   [3 5 6]]]\n",
            "\n",
            "\n",
            " [[[1 2 3]\n",
            "   [2 3 4]]\n",
            "\n",
            "  [[5 4 6]\n",
            "   [5 6 3]]\n",
            "\n",
            "  [[4 6 2]\n",
            "   [4 3 5]]\n",
            "\n",
            "  [[6 4 5]\n",
            "   [3 5 6]]]], shape=(3, 4, 2, 3), dtype=int32)\n"
          ]
        }
      ]
    },
    {
      "cell_type": "code",
      "source": [
        "print(tensor_four_d.ndim)"
      ],
      "metadata": {
        "colab": {
          "base_uri": "https://localhost:8080/"
        },
        "id": "gHCtF_SqKFsM",
        "outputId": "3c6c3905-adfa-4b14-f224-72024e8ba5ee"
      },
      "execution_count": null,
      "outputs": [
        {
          "output_type": "stream",
          "name": "stdout",
          "text": [
            "4\n"
          ]
        }
      ]
    },
    {
      "cell_type": "code",
      "source": [
        "tensor_one_1_d=tf.constant([1,2,3],dtype=tf.float32)\n",
        "print(tensor_one_1_d)"
      ],
      "metadata": {
        "colab": {
          "base_uri": "https://localhost:8080/"
        },
        "id": "JgvFQyXwTGvq",
        "outputId": "76aaf8b1-d833-4a89-b2f9-ec81ab074ad2"
      },
      "execution_count": null,
      "outputs": [
        {
          "output_type": "stream",
          "name": "stdout",
          "text": [
            "tf.Tensor([1. 2. 3.], shape=(3,), dtype=float32)\n"
          ]
        }
      ]
    },
    {
      "cell_type": "markdown",
      "source": [
        "#Casting\n",
        "##Casting means changing the data type of the tensor. Like we have float and we want to change it to int so we will use casting"
      ],
      "metadata": {
        "id": "YQyBqkMLjT0b"
      }
    },
    {
      "cell_type": "code",
      "source": [
        "tensor_one_d_float=tf.constant([1,0.,-1,4],dtype=tf.float32)\n",
        "caster_tensor=tf.cast(tensor_one_d_float,dtype=tf.int32) # we are using cast method to convert float32 to int32\n",
        "print(tensor_one_d_float)\n",
        "print(caster_tensor)"
      ],
      "metadata": {
        "colab": {
          "base_uri": "https://localhost:8080/"
        },
        "id": "QOUDPO-QjfiG",
        "outputId": "dc689aec-052f-413e-9002-eda4b125a282"
      },
      "execution_count": null,
      "outputs": [
        {
          "output_type": "stream",
          "name": "stdout",
          "text": [
            "tf.Tensor([ 1.  0. -1.  4.], shape=(4,), dtype=float32)\n",
            "tf.Tensor([ 1  0 -1  4], shape=(4,), dtype=int32)\n"
          ]
        }
      ]
    },
    {
      "cell_type": "code",
      "source": [
        "caster_tensor_bool=tf.cast(tensor_one_d_float,dtype=tf.bool) # converting into boolien function using cast method\n",
        "print(caster_tensor_bool)"
      ],
      "metadata": {
        "colab": {
          "base_uri": "https://localhost:8080/"
        },
        "id": "7-GO2zwbmaoI",
        "outputId": "c69e4f7c-b565-4d63-ba73-096d059718e0"
      },
      "execution_count": null,
      "outputs": [
        {
          "output_type": "stream",
          "name": "stdout",
          "text": [
            "tf.Tensor([ True False  True  True], shape=(4,), dtype=bool)\n"
          ]
        }
      ]
    },
    {
      "cell_type": "code",
      "source": [
        "tensor_bool=tf.constant([True, True, False])\n",
        "print(tensor_bool)"
      ],
      "metadata": {
        "colab": {
          "base_uri": "https://localhost:8080/"
        },
        "id": "gtdufkaOnIhF",
        "outputId": "2c07c289-6b2f-443b-b9e5-82fdb7e385c5"
      },
      "execution_count": null,
      "outputs": [
        {
          "output_type": "stream",
          "name": "stdout",
          "text": [
            "tf.Tensor([ True  True False], shape=(3,), dtype=bool)\n"
          ]
        }
      ]
    },
    {
      "cell_type": "code",
      "source": [
        "tensor_string=tf.constant(\"Hello World\")\n",
        "print(tensor_string)"
      ],
      "metadata": {
        "colab": {
          "base_uri": "https://localhost:8080/"
        },
        "id": "WxqycVW2naX9",
        "outputId": "79ef77d1-c480-4f2e-9c32-50818238803d"
      },
      "execution_count": null,
      "outputs": [
        {
          "output_type": "stream",
          "name": "stdout",
          "text": [
            "tf.Tensor(b'Hello World', shape=(), dtype=string)\n"
          ]
        }
      ]
    },
    {
      "cell_type": "markdown",
      "source": [
        "#numpy to tensorflow"
      ],
      "metadata": {
        "id": "gd5RPSG8luME"
      }
    },
    {
      "cell_type": "code",
      "source": [
        "import numpy as np"
      ],
      "metadata": {
        "id": "jrOeDB7_l2ob"
      },
      "execution_count": null,
      "outputs": []
    },
    {
      "cell_type": "code",
      "source": [
        "numpy_array=np.array([1,3,-3])\n",
        "print(numpy_array)"
      ],
      "metadata": {
        "colab": {
          "base_uri": "https://localhost:8080/"
        },
        "id": "cQ8uqrrTmR92",
        "outputId": "86af2a79-1039-47b0-9aa6-f989eb5a4205"
      },
      "execution_count": null,
      "outputs": [
        {
          "output_type": "stream",
          "name": "stdout",
          "text": [
            "[ 1  3 -3]\n"
          ]
        }
      ]
    },
    {
      "cell_type": "code",
      "source": [
        "converted_tensor=tf.convert_to_tensor(numpy_array)\n",
        "print(converted_tensor)"
      ],
      "metadata": {
        "colab": {
          "base_uri": "https://localhost:8080/"
        },
        "id": "PspFikCeof7b",
        "outputId": "cfdd48a6-7841-4802-866c-b6097ada74a8"
      },
      "execution_count": null,
      "outputs": [
        {
          "output_type": "stream",
          "name": "stdout",
          "text": [
            "tf.Tensor([ 1  3 -3], shape=(3,), dtype=int64)\n"
          ]
        }
      ]
    },
    {
      "cell_type": "markdown",
      "source": [
        "#Different Types of Methods"
      ],
      "metadata": {
        "id": "26FryC5Brwrj"
      }
    },
    {
      "cell_type": "markdown",
      "source": [
        "#Identy metrix\n"
      ],
      "metadata": {
        "id": "05Tfizkiuucz"
      }
    },
    {
      "cell_type": "code",
      "source": [
        "import tensorflow as tf\n",
        "eye_tensor=tf.eye(\n",
        "    num_rows=4,\n",
        "    num_columns=None,\n",
        "    batch_shape=None,\n",
        "    dtype=tf.dtypes.float32,\n",
        "    name=None\n",
        ")\n",
        "\n",
        "print(eye_tensor)"
      ],
      "metadata": {
        "colab": {
          "base_uri": "https://localhost:8080/"
        },
        "id": "3Z5e5ccKr0rb",
        "outputId": "89dbeaff-9fef-44a2-870c-cf3233105a89"
      },
      "execution_count": 2,
      "outputs": [
        {
          "output_type": "stream",
          "name": "stdout",
          "text": [
            "tf.Tensor(\n",
            "[[1. 0. 0. 0.]\n",
            " [0. 1. 0. 0.]\n",
            " [0. 0. 1. 0.]\n",
            " [0. 0. 0. 1.]], shape=(4, 4), dtype=float32)\n"
          ]
        }
      ]
    },
    {
      "cell_type": "code",
      "source": [
        "casted_eye_tensor = tf.cast(eye_tensor, dtype=tf.int32)\n",
        "print(casted_eye_tensor)\n",
        "print(3*eye_tensor)"
      ],
      "metadata": {
        "colab": {
          "base_uri": "https://localhost:8080/"
        },
        "id": "N-85uIkDsRcb",
        "outputId": "523c8528-16e8-49a8-c469-c8115f3ceea2"
      },
      "execution_count": 3,
      "outputs": [
        {
          "output_type": "stream",
          "name": "stdout",
          "text": [
            "tf.Tensor(\n",
            "[[1 0 0 0]\n",
            " [0 1 0 0]\n",
            " [0 0 1 0]\n",
            " [0 0 0 1]], shape=(4, 4), dtype=int32)\n",
            "tf.Tensor(\n",
            "[[3. 0. 0. 0.]\n",
            " [0. 3. 0. 0.]\n",
            " [0. 0. 3. 0.]\n",
            " [0. 0. 0. 3.]], shape=(4, 4), dtype=float32)\n"
          ]
        }
      ]
    },
    {
      "cell_type": "code",
      "source": [
        "eye_tensor=tf.eye(\n",
        "    num_rows=5,\n",
        "    num_columns=3,\n",
        "    batch_shape=[3,2],\n",
        "    dtype=tf.dtypes.float32,\n",
        "    name=None\n",
        ")\n",
        "\n",
        "print(eye_tensor)"
      ],
      "metadata": {
        "colab": {
          "base_uri": "https://localhost:8080/"
        },
        "outputId": "56b686be-1bbb-4240-f342-851992428e17",
        "id": "Db6UxXa4tTcp"
      },
      "execution_count": null,
      "outputs": [
        {
          "output_type": "stream",
          "name": "stdout",
          "text": [
            "tf.Tensor(\n",
            "[[[[1. 0. 0.]\n",
            "   [0. 1. 0.]\n",
            "   [0. 0. 1.]\n",
            "   [0. 0. 0.]\n",
            "   [0. 0. 0.]]\n",
            "\n",
            "  [[1. 0. 0.]\n",
            "   [0. 1. 0.]\n",
            "   [0. 0. 1.]\n",
            "   [0. 0. 0.]\n",
            "   [0. 0. 0.]]]\n",
            "\n",
            "\n",
            " [[[1. 0. 0.]\n",
            "   [0. 1. 0.]\n",
            "   [0. 0. 1.]\n",
            "   [0. 0. 0.]\n",
            "   [0. 0. 0.]]\n",
            "\n",
            "  [[1. 0. 0.]\n",
            "   [0. 1. 0.]\n",
            "   [0. 0. 1.]\n",
            "   [0. 0. 0.]\n",
            "   [0. 0. 0.]]]\n",
            "\n",
            "\n",
            " [[[1. 0. 0.]\n",
            "   [0. 1. 0.]\n",
            "   [0. 0. 1.]\n",
            "   [0. 0. 0.]\n",
            "   [0. 0. 0.]]\n",
            "\n",
            "  [[1. 0. 0.]\n",
            "   [0. 1. 0.]\n",
            "   [0. 0. 1.]\n",
            "   [0. 0. 0.]\n",
            "   [0. 0. 0.]]]], shape=(3, 2, 5, 3), dtype=float32)\n"
          ]
        }
      ]
    },
    {
      "cell_type": "code",
      "source": [
        "eye_tensor=tf.eye(\n",
        "    num_rows=4,\n",
        "    num_columns=None,\n",
        "    batch_shape=None,\n",
        "    dtype=tf.dtypes.bool,\n",
        "    name=None\n",
        ")\n",
        "\n",
        "print(eye_tensor)"
      ],
      "metadata": {
        "colab": {
          "base_uri": "https://localhost:8080/"
        },
        "id": "KdgOWCj5vrNN",
        "outputId": "138888e3-e656-4848-da90-52d19261697b"
      },
      "execution_count": null,
      "outputs": [
        {
          "output_type": "stream",
          "name": "stdout",
          "text": [
            "tf.Tensor(\n",
            "[[ True False False False]\n",
            " [False  True False False]\n",
            " [False False  True False]\n",
            " [False False False  True]], shape=(4, 4), dtype=bool)\n"
          ]
        }
      ]
    },
    {
      "cell_type": "markdown",
      "source": [
        "#Fill method\n"
      ],
      "metadata": {
        "id": "7EaRHqzyvHFG"
      }
    },
    {
      "cell_type": "code",
      "source": [
        "fill_tensor=tf.fill(\n",
        "    [2,4,3], 10, name=None, layout=None  # tf.fill(dims, value, name=None, layout=None)\n",
        "\n",
        ")\n",
        "\n",
        "print(fill_tensor)"
      ],
      "metadata": {
        "colab": {
          "base_uri": "https://localhost:8080/"
        },
        "id": "Zxk9WyvXvKll",
        "outputId": "e9c9aca0-5921-4baa-aafb-c9e6ce06f2de"
      },
      "execution_count": null,
      "outputs": [
        {
          "output_type": "stream",
          "name": "stdout",
          "text": [
            "tf.Tensor(\n",
            "[[[10 10 10]\n",
            "  [10 10 10]\n",
            "  [10 10 10]\n",
            "  [10 10 10]]\n",
            "\n",
            " [[10 10 10]\n",
            "  [10 10 10]\n",
            "  [10 10 10]\n",
            "  [10 10 10]]], shape=(2, 4, 3), dtype=int32)\n"
          ]
        }
      ]
    },
    {
      "cell_type": "markdown",
      "source": [
        "#One Method Where the value is 1"
      ],
      "metadata": {
        "id": "3hP0ty8CwhTy"
      }
    },
    {
      "cell_type": "code",
      "source": [
        "#tf.ones(\n",
        "#    shape,\n",
        "#    dtype=tf.dtypes.float32,\n",
        "#    name=None,\n",
        "#    layout=None\n",
        "#)\n",
        "\n",
        "ones_tensor=tf.ones(\n",
        "    [2,4,5],\n",
        "    dtype=tf.dtypes.float32,\n",
        "    name=None,\n",
        "    layout=None\n",
        ")\n",
        "\n",
        "print(ones_tensor)"
      ],
      "metadata": {
        "colab": {
          "base_uri": "https://localhost:8080/"
        },
        "id": "hqWe461Ewlfi",
        "outputId": "593417ea-06ed-4712-d0c8-ed46f9fae81a"
      },
      "execution_count": null,
      "outputs": [
        {
          "output_type": "stream",
          "name": "stdout",
          "text": [
            "tf.Tensor(\n",
            "[[[1. 1. 1. 1. 1.]\n",
            "  [1. 1. 1. 1. 1.]\n",
            "  [1. 1. 1. 1. 1.]\n",
            "  [1. 1. 1. 1. 1.]]\n",
            "\n",
            " [[1. 1. 1. 1. 1.]\n",
            "  [1. 1. 1. 1. 1.]\n",
            "  [1. 1. 1. 1. 1.]\n",
            "  [1. 1. 1. 1. 1.]]], shape=(2, 4, 5), dtype=float32)\n"
          ]
        }
      ]
    },
    {
      "cell_type": "markdown",
      "source": [
        "#Ones Like method where the method change all the value to 1\n",
        "\n",
        "\n"
      ],
      "metadata": {
        "id": "3UETHDeExQzT"
      }
    },
    {
      "cell_type": "code",
      "source": [
        "#tf.ones_like(\n",
        "#    input, dtype=None, name=None, layout=None\n",
        "#)\n",
        "\n",
        "\n",
        "ones_like_tensor=tf.ones_like(fill_tensor)\n",
        "print(ones_like_tensor)"
      ],
      "metadata": {
        "colab": {
          "base_uri": "https://localhost:8080/"
        },
        "id": "yIctcIUBxlBL",
        "outputId": "89be78ab-a856-479e-8187-c864326c4f40"
      },
      "execution_count": null,
      "outputs": [
        {
          "output_type": "stream",
          "name": "stdout",
          "text": [
            "tf.Tensor(\n",
            "[[[1 1 1]\n",
            "  [1 1 1]\n",
            "  [1 1 1]\n",
            "  [1 1 1]]\n",
            "\n",
            " [[1 1 1]\n",
            "  [1 1 1]\n",
            "  [1 1 1]\n",
            "  [1 1 1]]], shape=(2, 4, 3), dtype=int32)\n"
          ]
        }
      ]
    },
    {
      "cell_type": "markdown",
      "source": [
        "#Zero and Zeros Like (Same as Ones)"
      ],
      "metadata": {
        "id": "Vtb9FBpYyS4j"
      }
    },
    {
      "cell_type": "code",
      "source": [
        "#tf.fill(\n",
        "#    dims, value, name=None, layout=None\n",
        "#)\n",
        "\n",
        "tensor_example=tf.fill(\n",
        "    [3,4,5], 5, name=None, layout=None\n",
        ")\n",
        "\n",
        "print(tensor_example)"
      ],
      "metadata": {
        "colab": {
          "base_uri": "https://localhost:8080/"
        },
        "id": "fHYddFdByZUM",
        "outputId": "406e95d6-2fc7-44b8-81ac-8cd0232c446c"
      },
      "execution_count": null,
      "outputs": [
        {
          "output_type": "stream",
          "name": "stdout",
          "text": [
            "tf.Tensor(\n",
            "[[[5 5 5 5 5]\n",
            "  [5 5 5 5 5]\n",
            "  [5 5 5 5 5]\n",
            "  [5 5 5 5 5]]\n",
            "\n",
            " [[5 5 5 5 5]\n",
            "  [5 5 5 5 5]\n",
            "  [5 5 5 5 5]\n",
            "  [5 5 5 5 5]]\n",
            "\n",
            " [[5 5 5 5 5]\n",
            "  [5 5 5 5 5]\n",
            "  [5 5 5 5 5]\n",
            "  [5 5 5 5 5]]], shape=(3, 4, 5), dtype=int32)\n"
          ]
        }
      ]
    },
    {
      "cell_type": "code",
      "source": [
        "#tf.zeros(\n",
        "#    shape,\n",
        "#    dtype=tf.dtypes.float32,\n",
        "#    name=None,\n",
        "#    layout=None\n",
        "#)\n",
        "\n",
        "zeros_tensor=tf.zeros(\n",
        "    [2,4,3],\n",
        "    dtype=tf.dtypes.float32,\n",
        "    name=None,\n",
        "    layout=None\n",
        ")\n",
        "\n",
        "print(zeros_tensor)"
      ],
      "metadata": {
        "colab": {
          "base_uri": "https://localhost:8080/"
        },
        "id": "gyR4vFRgzWXG",
        "outputId": "ba030aa1-a923-46be-cc82-995c31a1a09a"
      },
      "execution_count": null,
      "outputs": [
        {
          "output_type": "stream",
          "name": "stdout",
          "text": [
            "tf.Tensor(\n",
            "[[[0. 0. 0.]\n",
            "  [0. 0. 0.]\n",
            "  [0. 0. 0.]\n",
            "  [0. 0. 0.]]\n",
            "\n",
            " [[0. 0. 0.]\n",
            "  [0. 0. 0.]\n",
            "  [0. 0. 0.]\n",
            "  [0. 0. 0.]]], shape=(2, 4, 3), dtype=float32)\n"
          ]
        }
      ]
    },
    {
      "cell_type": "code",
      "source": [
        "zeros_like_tensor=tf.zeros_like(tensor_example)\n",
        "print(zeros_like_tensor)"
      ],
      "metadata": {
        "colab": {
          "base_uri": "https://localhost:8080/"
        },
        "id": "yMh1d14szrTY",
        "outputId": "6862de63-c98c-4c3c-f6b7-00e2f5f4af6d"
      },
      "execution_count": null,
      "outputs": [
        {
          "output_type": "stream",
          "name": "stdout",
          "text": [
            "tf.Tensor(\n",
            "[[[0 0 0 0 0]\n",
            "  [0 0 0 0 0]\n",
            "  [0 0 0 0 0]\n",
            "  [0 0 0 0 0]]\n",
            "\n",
            " [[0 0 0 0 0]\n",
            "  [0 0 0 0 0]\n",
            "  [0 0 0 0 0]\n",
            "  [0 0 0 0 0]]\n",
            "\n",
            " [[0 0 0 0 0]\n",
            "  [0 0 0 0 0]\n",
            "  [0 0 0 0 0]\n",
            "  [0 0 0 0 0]]], shape=(3, 4, 5), dtype=int32)\n"
          ]
        }
      ]
    },
    {
      "cell_type": "markdown",
      "source": [
        "#Random Normal\n",
        "## https://www.acsu.buffalo.edu/~adamcunn/probability/normal.html\n",
        "\n",
        "```\n",
        "tf.random.normal(\n",
        "    shape,\\\\shape means dimentions\n",
        "    mean=0.0,\n",
        "    stddev=1.0,\n",
        "    dtype=tf.dtypes.float32,\n",
        "    seed=None,\n",
        "    name=None\n",
        ")\n",
        "```\n",
        "\n"
      ],
      "metadata": {
        "id": "GGUAcClL12Bl"
      }
    },
    {
      "cell_type": "code",
      "source": [
        "random_tensor=tf.random.normal(\n",
        "    [4,3],\n",
        "    mean=0.0, # mean means that all the random value will be near that mean value\n",
        "    stddev=1.0,  # stddev means standard deviation. A smaller stddev means the values are closer to the mean (less spread out).A larger stddev means the values are more spread out.\n",
        "    dtype=tf.dtypes.float32,\n",
        "    seed=None,\n",
        "    name=None\n",
        ")\n",
        "\n",
        "print(random_tensor)"
      ],
      "metadata": {
        "colab": {
          "base_uri": "https://localhost:8080/"
        },
        "id": "2H2K-UGE2L29",
        "outputId": "d316b532-71b2-4aae-89b2-d18d0401709e"
      },
      "execution_count": null,
      "outputs": [
        {
          "output_type": "stream",
          "name": "stdout",
          "text": [
            "tf.Tensor(\n",
            "[[-2.4662292  -0.5715262  -0.80449146]\n",
            " [-0.62035376 -1.6006722   0.07374258]\n",
            " [ 0.03874078 -1.4387479   0.7660149 ]\n",
            " [-0.01358966 -1.0341055   1.0039945 ]], shape=(4, 3), dtype=float32)\n"
          ]
        }
      ]
    },
    {
      "cell_type": "code",
      "source": [
        "random_tensor=tf.random.normal(\n",
        "    [4,3],\n",
        "    mean=20.0,\n",
        "    stddev=1.0,\n",
        "    dtype=tf.dtypes.float32,\n",
        "    seed=None,\n",
        "    name=None\n",
        ")\n",
        "\n",
        "print(random_tensor)"
      ],
      "metadata": {
        "colab": {
          "base_uri": "https://localhost:8080/"
        },
        "id": "QLPikf0-F6qw",
        "outputId": "6c75963a-3298-4f08-b8d6-28101a463cb7"
      },
      "execution_count": null,
      "outputs": [
        {
          "output_type": "stream",
          "name": "stdout",
          "text": [
            "tf.Tensor(\n",
            "[[21.32492  19.698435 21.128544]\n",
            " [22.294464 19.846203 20.302753]\n",
            " [18.524006 19.362352 19.242605]\n",
            " [19.462807 20.648132 21.247866]], shape=(4, 3), dtype=float32)\n"
          ]
        }
      ]
    },
    {
      "cell_type": "markdown",
      "source": [
        "#Random Uniform\n",
        "### For uniform insted of mean and standard deviation we use min value and max"
      ],
      "metadata": {
        "id": "oFQs16Q1tOhH"
      }
    },
    {
      "cell_type": "code",
      "source": [
        "#tf.random.uniform(\n",
        "#    shape,\n",
        "#    minval=0,\n",
        "#    maxval=None,\n",
        "#    dtype=tf.dtypes.float32,\n",
        "#    seed=None,\n",
        "#    name=None\n",
        "#)\n",
        "\n",
        "\n",
        "random_uniform_tensor=tf.random.uniform(\n",
        "    [2,3],\n",
        "    minval=3,\n",
        "    maxval=10,\n",
        "    dtype=tf.dtypes.float32,\n",
        "    seed=None,\n",
        "    name=None\n",
        ")\n",
        "\n",
        "print (random_uniform_tensor)"
      ],
      "metadata": {
        "colab": {
          "base_uri": "https://localhost:8080/"
        },
        "id": "1IU9ULePtJej",
        "outputId": "69b70ec9-06a5-46d2-a63e-ee1093d5da51"
      },
      "execution_count": 5,
      "outputs": [
        {
          "output_type": "stream",
          "name": "stdout",
          "text": [
            "tf.Tensor(\n",
            "[[4.118925  3.2364697 8.37015  ]\n",
            " [3.2636926 6.805786  6.256915 ]], shape=(2, 3), dtype=float32)\n"
          ]
        }
      ]
    },
    {
      "cell_type": "markdown",
      "source": [
        "#Seed\n",
        "## seed many ganarate the same value again and again"
      ],
      "metadata": {
        "id": "-_MiZtOEyU5c"
      }
    },
    {
      "cell_type": "code",
      "source": [
        "tf.random.set_seed(1234)\n",
        "print(tf.random.uniform([1], seed=1))  # generates 'A1'\n",
        "print(tf.random.uniform([1], seed=1))  # generates 'A2'"
      ],
      "metadata": {
        "colab": {
          "base_uri": "https://localhost:8080/"
        },
        "id": "UiuFXLehw64K",
        "outputId": "5bef45ae-1b95-4296-ce28-837025a3f7e5"
      },
      "execution_count": 10,
      "outputs": [
        {
          "output_type": "stream",
          "name": "stdout",
          "text": [
            "tf.Tensor([0.1689806], shape=(1,), dtype=float32)\n",
            "tf.Tensor([0.7539084], shape=(1,), dtype=float32)\n"
          ]
        }
      ]
    },
    {
      "cell_type": "code",
      "source": [
        "tf.random.set_seed(1234)\n",
        "print(tf.random.uniform([1], seed=1))  # generates 'A1'\n",
        "print(tf.random.uniform([1], seed=1))  # generates 'A2'"
      ],
      "metadata": {
        "colab": {
          "base_uri": "https://localhost:8080/"
        },
        "id": "xG4SG9Kczsym",
        "outputId": "0e57d1fa-5e2c-40fa-939a-b493daa695db"
      },
      "execution_count": 9,
      "outputs": [
        {
          "output_type": "stream",
          "name": "stdout",
          "text": [
            "tf.Tensor([0.1689806], shape=(1,), dtype=float32)\n",
            "tf.Tensor([0.7539084], shape=(1,), dtype=float32)\n"
          ]
        }
      ]
    }
  ]
}